{
 "cells": [
  {
   "cell_type": "code",
   "execution_count": 9,
   "id": "12eef624",
   "metadata": {
    "execution": {
     "iopub.execute_input": "2022-09-02T22:05:48.763938Z",
     "iopub.status.busy": "2022-09-02T22:05:48.763387Z",
     "iopub.status.idle": "2022-09-02T22:05:51.161027Z",
     "shell.execute_reply": "2022-09-02T22:05:51.159951Z"
    },
    "papermill": {
     "duration": 2.411371,
     "end_time": "2022-09-02T22:05:51.163858",
     "exception": false,
     "start_time": "2022-09-02T22:05:48.752487",
     "status": "completed"
    },
    "tags": []
   },
   "outputs": [],
   "source": [
    "import numpy as np\n",
    "import torch\n",
    "import torchvision\n",
    "import torch.nn as nn"
   ]
  },
  {
   "cell_type": "code",
   "execution_count": 10,
   "id": "7b4eaa66",
   "metadata": {
    "execution": {
     "iopub.execute_input": "2022-09-02T22:05:51.210096Z",
     "iopub.status.busy": "2022-09-02T22:05:51.209583Z",
     "iopub.status.idle": "2022-09-02T22:05:51.276560Z",
     "shell.execute_reply": "2022-09-02T22:05:51.275426Z"
    },
    "papermill": {
     "duration": 0.078257,
     "end_time": "2022-09-02T22:05:51.279576",
     "exception": false,
     "start_time": "2022-09-02T22:05:51.201319",
     "status": "completed"
    },
    "tags": []
   },
   "outputs": [
    {
     "name": "stdout",
     "output_type": "stream",
     "text": [
      "mps\n"
     ]
    }
   ],
   "source": [
    "device = \"mps\" \n",
    "print (device)"
   ]
  },
  {
   "cell_type": "code",
   "execution_count": 11,
   "id": "e1978f68",
   "metadata": {
    "execution": {
     "iopub.execute_input": "2022-09-02T22:05:51.325002Z",
     "iopub.status.busy": "2022-09-02T22:05:51.324026Z",
     "iopub.status.idle": "2022-09-02T22:05:51.331339Z",
     "shell.execute_reply": "2022-09-02T22:05:51.330263Z"
    },
    "papermill": {
     "duration": 0.017589,
     "end_time": "2022-09-02T22:05:51.333548",
     "exception": false,
     "start_time": "2022-09-02T22:05:51.315959",
     "status": "completed"
    },
    "tags": []
   },
   "outputs": [],
   "source": [
    "from torchvision.transforms import transforms\n",
    "normalize = transforms.Normalize(mean=[0.485, 0.456, 0.406],std=[0.229, 0.224, 0.225])\n",
    "\n",
    "\n",
    "train_transform = transforms.Compose([transforms.Resize((150,150)),\n",
    "                                     transforms.ToTensor(),normalize,transforms.RandomHorizontalFlip()])\n",
    "\n",
    "test_transform = transforms.Compose([transforms.Resize((150,150)),\n",
    "                                     transforms.ToTensor(),normalize])"
   ]
  },
  {
   "cell_type": "code",
   "execution_count": 12,
   "id": "79b49d59",
   "metadata": {
    "execution": {
     "iopub.execute_input": "2022-09-02T22:05:51.350503Z",
     "iopub.status.busy": "2022-09-02T22:05:51.349945Z",
     "iopub.status.idle": "2022-09-02T22:05:57.743891Z",
     "shell.execute_reply": "2022-09-02T22:05:57.742807Z"
    },
    "papermill": {
     "duration": 6.405066,
     "end_time": "2022-09-02T22:05:57.746876",
     "exception": false,
     "start_time": "2022-09-02T22:05:51.341810",
     "status": "completed"
    },
    "tags": []
   },
   "outputs": [
    {
     "data": {
      "text/plain": [
       "13711"
      ]
     },
     "execution_count": 12,
     "metadata": {},
     "output_type": "execute_result"
    }
   ],
   "source": [
    "images_path = torchvision.datasets.ImageFolder(\"/Users/vaibhavmk/Downloads/marinefull\",transform = train_transform)\n",
    "len(images_path)"
   ]
  },
  {
   "cell_type": "code",
   "execution_count": 13,
   "id": "3c3edc7c",
   "metadata": {
    "execution": {
     "iopub.execute_input": "2022-09-02T22:05:57.791919Z",
     "iopub.status.busy": "2022-09-02T22:05:57.790959Z",
     "iopub.status.idle": "2022-09-02T22:05:57.798392Z",
     "shell.execute_reply": "2022-09-02T22:05:57.797252Z"
    },
    "papermill": {
     "duration": 0.017987,
     "end_time": "2022-09-02T22:05:57.800778",
     "exception": false,
     "start_time": "2022-09-02T22:05:57.782791",
     "status": "completed"
    },
    "tags": []
   },
   "outputs": [],
   "source": [
    "a = 3000\n",
    "image_train,image_test = torch.utils.data.random_split(images_path,(13711-a,a))"
   ]
  },
  {
   "cell_type": "code",
   "execution_count": 14,
   "id": "96c84f1b",
   "metadata": {
    "execution": {
     "iopub.execute_input": "2022-09-02T22:05:57.830767Z",
     "iopub.status.busy": "2022-09-02T22:05:57.830462Z",
     "iopub.status.idle": "2022-09-02T22:06:15.630273Z",
     "shell.execute_reply": "2022-09-02T22:06:15.628971Z"
    },
    "papermill": {
     "duration": 17.810562,
     "end_time": "2022-09-02T22:06:15.632582",
     "exception": false,
     "start_time": "2022-09-02T22:05:57.822020",
     "status": "completed"
    },
    "tags": []
   },
   "outputs": [
    {
     "name": "stderr",
     "output_type": "stream",
     "text": [
      "3000it [00:03, 861.58it/s]\n"
     ]
    }
   ],
   "source": [
    "from tqdm import   tqdm\n",
    "main_lib = []\n",
    "faster = []\n",
    "\n",
    "\n",
    "for main in tqdm(enumerate(image_test)):\n",
    "    \n",
    "    faster.append(main[1])\n",
    "  \n",
    "\n",
    "\n",
    "\n",
    "for i in range(len(images_path.classes)):\n",
    "    mini_main = []\n",
    "    for main in faster:\n",
    "        if main[1]== i:\n",
    "            mini_main.append(main)\n",
    "           \n",
    "        else:\n",
    "            pass\n",
    "    main_lib.append(mini_main)\n",
    "    \n",
    "global_test =[]            \n",
    "for g in main_lib:\n",
    "    for b in g:\n",
    "        global_test.append(b)\n",
    "        \n",
    "\n"
   ]
  },
  {
   "cell_type": "code",
   "execution_count": 15,
   "id": "8cecdd12",
   "metadata": {
    "execution": {
     "iopub.execute_input": "2022-09-02T22:06:15.700125Z",
     "iopub.status.busy": "2022-09-02T22:06:15.699217Z",
     "iopub.status.idle": "2022-09-02T22:06:15.704996Z",
     "shell.execute_reply": "2022-09-02T22:06:15.703976Z"
    },
    "papermill": {
     "duration": 0.026158,
     "end_time": "2022-09-02T22:06:15.707838",
     "exception": false,
     "start_time": "2022-09-02T22:06:15.681680",
     "status": "completed"
    },
    "tags": []
   },
   "outputs": [],
   "source": [
    "train_loader = torch.utils.data.DataLoader(image_train,shuffle = True,batch_size = 32)\n",
    "test_loader = torch.utils.data.DataLoader(global_test,shuffle = False,batch_size = 64)\n"
   ]
  },
  {
   "cell_type": "code",
   "execution_count": 16,
   "id": "5aa0f98a",
   "metadata": {
    "execution": {
     "iopub.execute_input": "2022-09-02T22:06:15.741958Z",
     "iopub.status.busy": "2022-09-02T22:06:15.740964Z",
     "iopub.status.idle": "2022-09-02T22:06:15.748749Z",
     "shell.execute_reply": "2022-09-02T22:06:15.747465Z"
    },
    "papermill": {
     "duration": 0.02929,
     "end_time": "2022-09-02T22:06:15.752822",
     "exception": false,
     "start_time": "2022-09-02T22:06:15.723532",
     "status": "completed"
    },
    "tags": []
   },
   "outputs": [
    {
     "name": "stdout",
     "output_type": "stream",
     "text": [
      "Total Image:  13711\n",
      "Train Image:  10711\n",
      "Test Image:  3000\n",
      "Train len batch:  335\n",
      "Test len batch:  47\n"
     ]
    }
   ],
   "source": [
    "print(\"Total Image: \",len(images_path))\n",
    "print(\"Train Image: \",len(image_train))\n",
    "print(\"Test Image: \",len(image_test))\n",
    "print(\"Train len batch: \",len(train_loader))\n",
    "print(\"Test len batch: \",len(test_loader))"
   ]
  },
  {
   "cell_type": "code",
   "execution_count": 17,
   "id": "ec9f4bf3",
   "metadata": {
    "execution": {
     "iopub.execute_input": "2022-09-02T22:06:15.846971Z",
     "iopub.status.busy": "2022-09-02T22:06:15.846641Z",
     "iopub.status.idle": "2022-09-02T22:06:27.670004Z",
     "shell.execute_reply": "2022-09-02T22:06:27.668990Z"
    },
    "papermill": {
     "duration": 11.842119,
     "end_time": "2022-09-02T22:06:27.672567",
     "exception": false,
     "start_time": "2022-09-02T22:06:15.830448",
     "status": "completed"
    },
    "tags": []
   },
   "outputs": [
    {
     "name": "stderr",
     "output_type": "stream",
     "text": [
      "/Users/vaibhavmk/anaconda3/lib/python3.11/site-packages/torchvision/models/_utils.py:208: UserWarning: The parameter 'pretrained' is deprecated since 0.13 and may be removed in the future, please use 'weights' instead.\n",
      "  warnings.warn(\n",
      "/Users/vaibhavmk/anaconda3/lib/python3.11/site-packages/torchvision/models/_utils.py:223: UserWarning: Arguments other than a weight enum or `None` for 'weights' are deprecated since 0.13 and may be removed in the future. The current behavior is equivalent to passing `weights=ResNet50_Weights.IMAGENET1K_V1`. You can also use `weights=ResNet50_Weights.DEFAULT` to get the most up-to-date weights.\n",
      "  warnings.warn(msg)\n"
     ]
    }
   ],
   "source": [
    "model = torchvision.models.resnet50(pretrained = True).to(device)\n",
    "\n",
    "for param in model.parameters():\n",
    "    param.requires_grad = False\n",
    "lastLayer = model.fc.in_features  #2048\n",
    "\n",
    "\n",
    "model.fc = nn.Sequential(nn.Linear(2048,256),\n",
    "                        nn.ReLU(inplace = True),\n",
    "                         \n",
    "                         \n",
    "                        nn.Linear(256,len(images_path.classes))).to(device)\n"
   ]
  },
  {
   "cell_type": "code",
   "execution_count": 18,
   "id": "cfd5675d",
   "metadata": {
    "execution": {
     "iopub.execute_input": "2022-09-02T22:06:27.734487Z",
     "iopub.status.busy": "2022-09-02T22:06:27.733447Z",
     "iopub.status.idle": "2022-09-02T22:06:27.739744Z",
     "shell.execute_reply": "2022-09-02T22:06:27.738740Z"
    },
    "papermill": {
     "duration": 0.024633,
     "end_time": "2022-09-02T22:06:27.741872",
     "exception": false,
     "start_time": "2022-09-02T22:06:27.717239",
     "status": "completed"
    },
    "tags": []
   },
   "outputs": [],
   "source": [
    "epoch = 25\n",
    "optimizer = torch.optim.Adam(model.fc.parameters(),lr = 0.003)\n",
    "criterion = nn.CrossEntropyLoss()\n",
    "scheduler = torch.optim.lr_scheduler.ReduceLROnPlateau(optimizer,factor = 0.001,patience= 5, verbose = True)"
   ]
  },
  {
   "cell_type": "code",
   "execution_count": 19,
   "id": "77078ffe",
   "metadata": {
    "execution": {
     "iopub.execute_input": "2022-09-02T22:06:27.773425Z",
     "iopub.status.busy": "2022-09-02T22:06:27.772641Z",
     "iopub.status.idle": "2022-09-02T22:15:11.346766Z",
     "shell.execute_reply": "2022-09-02T22:15:11.345743Z"
    },
    "papermill": {
     "duration": 523.604177,
     "end_time": "2022-09-02T22:15:11.360937",
     "exception": false,
     "start_time": "2022-09-02T22:06:27.756760",
     "status": "completed"
    },
    "tags": []
   },
   "outputs": [
    {
     "name": "stdout",
     "output_type": "stream",
     "text": [
      "MODEL SAVED inf -------> 1.03966281636556\n",
      "Epoch:0/25 -----> Train Loss = 1.3206873017748177 Test Loss = 1.03966281636556 ACC = 0.6833333373069763\n",
      "MODEL SAVED 1.03966281636556 -------> 0.9526613348325094\n",
      "Epoch:1/25 -----> Train Loss = 1.0067803087872 Test Loss = 0.9526613348325094 ACC = 0.7223333120346069\n",
      "MODEL SAVED 0.9526613348325094 -------> 0.9308178413709005\n",
      "Epoch:2/25 -----> Train Loss = 0.928197528821571 Test Loss = 0.9308178413709005 ACC = 0.7260000109672546\n",
      "MODEL SAVED 0.9308178413709005 -------> 0.9218657058080038\n",
      "Epoch:3/25 -----> Train Loss = 0.8733108202267645 Test Loss = 0.9218657058080038 ACC = 0.7296666502952576\n",
      "Epoch: 4/25 -----> Train Loss = 0.8475854766740595 Test Loss = 0.9614320025444031 ACC = 0.7146666646003723\n",
      "Epoch: 5/25 -----> Train Loss = 0.838269318934193 Test Loss = 0.9689698703686396 ACC = 0.7196666598320007\n",
      "Epoch: 6/25 -----> Train Loss = 0.7897742347561025 Test Loss = 0.9864138351281484 ACC = 0.7166666388511658\n",
      "Epoch: 7/25 -----> Train Loss = 0.7982016981299123 Test Loss = 0.9478653655846914 ACC = 0.7250000238418579\n",
      "Epoch: 8/25 -----> Train Loss = 0.7737018293375484 Test Loss = 1.0046672763228417 ACC = 0.7176666855812073\n",
      "Epoch 00010: reducing learning rate of group 0 to 3.0000e-06.\n",
      "Epoch: 9/25 -----> Train Loss = 0.7437191555317727 Test Loss = 0.9761578175226847 ACC = 0.7316666841506958\n",
      "Epoch: 10/25 -----> Train Loss = 0.680478799605768 Test Loss = 0.9752052324612935 ACC = 0.7293333411216736\n",
      "Epoch: 11/25 -----> Train Loss = 0.656245596011962 Test Loss = 0.9364758033752442 ACC = 0.7400000095367432\n",
      "Epoch: 12/25 -----> Train Loss = 0.6341054293858038 Test Loss = 0.9332534755071005 ACC = 0.7369999885559082\n",
      "Epoch: 13/25 -----> Train Loss = 0.6160906745755097 Test Loss = 0.9269248223304749 ACC = 0.7383333444595337\n",
      "Epoch: 14/25 -----> Train Loss = 0.6016426040015294 Test Loss = 0.9295591802597046 ACC = 0.7390000224113464\n",
      "MODEL SAVED 0.9218657058080038 -------> 0.906010704199473\n",
      "Epoch:15/25 -----> Train Loss = 0.5997046111467205 Test Loss = 0.906010704199473 ACC = 0.7459999918937683\n",
      "MODEL SAVED 0.906010704199473 -------> 0.9011898731390635\n",
      "Epoch:16/25 -----> Train Loss = 0.6001295884075579 Test Loss = 0.9011898731390635 ACC = 0.7490000128746033\n",
      "Epoch: 17/25 -----> Train Loss = 0.5813667586221268 Test Loss = 0.9061179558436075 ACC = 0.7483333349227905\n",
      "Epoch: 18/25 -----> Train Loss = 0.5780141445036953 Test Loss = 0.9056736041704814 ACC = 0.7473333477973938\n",
      "MODEL SAVED 0.9011898731390635 -------> 0.8937632776896158\n",
      "Epoch:19/25 -----> Train Loss = 0.575633600466882 Test Loss = 0.8937632776896158 ACC = 0.7506666779518127\n",
      "MODEL SAVED 0.8937632776896158 -------> 0.8930950973828634\n",
      "Epoch:20/25 -----> Train Loss = 0.5787527736479156 Test Loss = 0.8930950973828634 ACC = 0.7490000128746033\n",
      "MODEL SAVED 0.8930950973828634 -------> 0.8865579714775086\n",
      "Epoch:21/25 -----> Train Loss = 0.5770858095513818 Test Loss = 0.8865579714775086 ACC = 0.7536666393280029\n",
      "Epoch: 22/25 -----> Train Loss = 0.5752027496415887 Test Loss = 0.9037559045950572 ACC = 0.7486666440963745\n",
      "MODEL SAVED 0.8865579714775086 -------> 0.884077444156011\n",
      "Epoch:23/25 -----> Train Loss = 0.5694610521067938 Test Loss = 0.884077444156011 ACC = 0.749666690826416\n",
      "Epoch: 24/25 -----> Train Loss = 0.567782193825766 Test Loss = 0.9074724435806274 ACC = 0.7473333477973938\n"
     ]
    }
   ],
   "source": [
    "from sklearn.metrics import f1_score\n",
    "upper= np.inf\n",
    "\n",
    "train_loss_graph = []\n",
    "test_loss_graph = []\n",
    "acc_graph = []\n",
    "\n",
    "for epochs in range(epoch):\n",
    "    model.train()\n",
    "    train_loss = 0\n",
    "    test_loss = 0\n",
    "    acc = 0\n",
    "    b= 0\n",
    "    for img,label in train_loader:\n",
    "        \n",
    "        b+= 1\n",
    "    \n",
    "        img,label = img.to(device),label.to(device)\n",
    "        \n",
    "        output = model(img)\n",
    "        loss = criterion(output,label)\n",
    "        \n",
    "        optimizer.zero_grad()\n",
    "        loss.backward()\n",
    "        optimizer.step()\n",
    "        \n",
    "        train_loss += loss.item()* img.size(0)\n",
    "    train_loss_graph.append(train_loss / len(image_train))\n",
    "        \n",
    "    model.eval()\n",
    "   \n",
    "    for test_img,test_label in test_loader:\n",
    "        b+= 1\n",
    "        \n",
    "        test_img,test_label = test_img.to(device),test_label.to(device)\n",
    "        \n",
    "        test_output = model(test_img)\n",
    "        \n",
    "        test_loss_counter = criterion(test_output,test_label)\n",
    "        \n",
    "        test_loss += test_loss_counter.item() * test_img.size(0)\n",
    "        _,pred = torch.max(test_output,1)\n",
    "        correct = torch.sum(pred == test_label.data)\n",
    "        \n",
    "        \n",
    "        acc += correct\n",
    "        \n",
    "    acc_graph.append(acc.cpu()/len(image_test))\n",
    "    test_loss_graph.append(test_loss/len(image_test))\n",
    "    test_upper = test_loss/len( image_test)\n",
    "    scheduler.step(test_upper)\n",
    "    \n",
    "    if test_upper < upper:\n",
    "        print(f\"MODEL SAVED {upper} -------> {test_upper}\")\n",
    "        print(f\"Epoch:{epochs}/{epoch} -----> Train Loss = {train_loss / len(image_train)} Test Loss = {test_loss/len(image_test)} ACC = {acc /len(image_test)}\")\n",
    "        upper = test_upper\n",
    "        torch.save(model.state_dict(),'/Users/vaibhavmk/Downloads/animalClassfiction1.pth')\n",
    "        \n",
    "\n",
    "\n",
    "    else:\n",
    "        print(f\"Epoch: {epochs}/{epoch} -----> Train Loss = {train_loss / len(image_train)} Test Loss = {test_loss/len(image_test)} ACC = {acc /len(image_test)}\")\n",
    "        \n",
    "        \n",
    "        \n",
    "    \n",
    "\n",
    "\n",
    "\n"
   ]
  },
  {
   "cell_type": "code",
   "execution_count": 20,
   "id": "34fd51e0",
   "metadata": {
    "execution": {
     "iopub.execute_input": "2022-09-02T22:15:11.425284Z",
     "iopub.status.busy": "2022-09-02T22:15:11.423489Z",
     "iopub.status.idle": "2022-09-02T22:15:11.651119Z",
     "shell.execute_reply": "2022-09-02T22:15:11.650139Z"
    },
    "papermill": {
     "duration": 0.246112,
     "end_time": "2022-09-02T22:15:11.653325",
     "exception": false,
     "start_time": "2022-09-02T22:15:11.407213",
     "status": "completed"
    },
    "tags": []
   },
   "outputs": [
    {
     "data": {
      "image/png": "[encoded data removed]",
      "text/plain": [
       "<Figure size 640x480 with 1 Axes>"
      ]
     },
     "metadata": {},
     "output_type": "display_data"
    }
   ],
   "source": [
    "import matplotlib.pyplot as plt\n",
    "\n",
    "plt.plot(train_loss_graph)\n",
    "plt.plot(test_loss_graph)\n",
    "plt.plot(acc_graph)\n",
    "plt.xlabel(\"Epoch\")\n",
    "plt.ylabel(\"Acc\")\n",
    "plt.legend([\"Train Loss\",\"Test Loss\",\"Accuracy\"])\n",
    "plt.show()"
   ]
  },
  {
   "cell_type": "code",
   "execution_count": 21,
   "id": "54a7ef73",
   "metadata": {
    "execution": {
     "iopub.execute_input": "2022-09-02T22:15:11.718429Z",
     "iopub.status.busy": "2022-09-02T22:15:11.716494Z",
     "iopub.status.idle": "2022-09-02T22:15:12.305366Z",
     "shell.execute_reply": "2022-09-02T22:15:12.304391Z"
    },
    "papermill": {
     "duration": 0.607529,
     "end_time": "2022-09-02T22:15:12.307584",
     "exception": false,
     "start_time": "2022-09-02T22:15:11.700055",
     "status": "completed"
    },
    "tags": []
   },
   "outputs": [
    {
     "name": "stderr",
     "output_type": "stream",
     "text": [
      "/Users/vaibhavmk/anaconda3/lib/python3.11/site-packages/torchvision/models/_utils.py:208: UserWarning: The parameter 'pretrained' is deprecated since 0.13 and may be removed in the future, please use 'weights' instead.\n",
      "  warnings.warn(\n",
      "/Users/vaibhavmk/anaconda3/lib/python3.11/site-packages/torchvision/models/_utils.py:223: UserWarning: Arguments other than a weight enum or `None` for 'weights' are deprecated since 0.13 and may be removed in the future. The current behavior is equivalent to passing `weights=None`.\n",
      "  warnings.warn(msg)\n"
     ]
    },
    {
     "data": {
      "text/plain": [
       "<All keys matched successfully>"
      ]
     },
     "execution_count": 21,
     "metadata": {},
     "output_type": "execute_result"
    }
   ],
   "source": [
    "import numpy as np\n",
    "import torch\n",
    "import torchvision\n",
    "import torch.nn as nn\n",
    "from torchvision.transforms import transforms\n",
    "normalize = transforms.Normalize(mean=[0.485, 0.456, 0.406],std=[0.229, 0.224, 0.225])\n",
    "\n",
    "\n",
    "train_transform = transforms.Compose([transforms.Resize((150,150)),\n",
    "                                     transforms.ToTensor(),normalize,transforms.RandomHorizontalFlip()])\n",
    "\n",
    "test_transform = transforms.Compose([transforms.Resize((150,150)),\n",
    "                                     transforms.ToTensor(),normalize])\n",
    "images_path = torchvision.datasets.ImageFolder(\"/Users/vaibhavmk/Downloads/marinefull\",transform = train_transform)\n",
    "len(images_path)\n",
    "model = torchvision.models.resnet50(pretrained = False)\n",
    "lassLayer = model.fc.in_features\n",
    "model.fc = nn.Sequential(nn.Linear(lassLayer,256),\n",
    "                         nn.ReLU(inplace = True),\n",
    "                         \n",
    "                         \n",
    "                         \n",
    "                         nn.Linear(256,len(images_path.classes)))\n",
    "\n",
    "                                   \n",
    "model.load_state_dict(torch.load(\"/Users/vaibhavmk/Downloads/animalClassfiction1.pth\"))                                   \n",
    "                                                            \n",
    "                               "
   ]
  },
  {
   "cell_type": "code",
   "execution_count": 22,
   "id": "77e8378c",
   "metadata": {
    "execution": {
     "iopub.execute_input": "2022-09-02T22:15:12.376248Z",
     "iopub.status.busy": "2022-09-02T22:15:12.374381Z",
     "iopub.status.idle": "2022-09-02T22:15:12.397010Z",
     "shell.execute_reply": "2022-09-02T22:15:12.396117Z"
    },
    "papermill": {
     "duration": 0.042465,
     "end_time": "2022-09-02T22:15:12.399424",
     "exception": false,
     "start_time": "2022-09-02T22:15:12.356959",
     "status": "completed"
    },
    "tags": []
   },
   "outputs": [],
   "source": [
    "from PIL import Image  \n",
    "test_paths = [\"/Users/vaibhavmk/Downloads/campics/test2.jpg\"]\n",
    "img_testing = [Image.open(a) for a in test_paths]\n",
    "\n",
    "stacked = torch.stack([test_transform(g) for g in img_testing])\n",
    "\n",
    "\n",
    "\n",
    "\n",
    "\n",
    "\n"
   ]
  },
  {
   "cell_type": "code",
   "execution_count": 23,
   "id": "0f94a03e",
   "metadata": {
    "execution": {
     "iopub.execute_input": "2022-09-02T22:15:12.468971Z",
     "iopub.status.busy": "2022-09-02T22:15:12.466991Z",
     "iopub.status.idle": "2022-09-02T22:15:12.885217Z",
     "shell.execute_reply": "2022-09-02T22:15:12.884110Z"
    },
    "papermill": {
     "duration": 0.43935,
     "end_time": "2022-09-02T22:15:12.888120",
     "exception": false,
     "start_time": "2022-09-02T22:15:12.448770",
     "status": "completed"
    },
    "tags": []
   },
   "outputs": [],
   "source": [
    "with torch.no_grad():\n",
    "    model.eval()\n",
    "    output = model(stacked)\n",
    "    output = nn.functional.softmax(output,dim = 1)\n",
    "    \n",
    "class_names = images_path.classes    \n",
    "\n",
    "accur_name = [\"whale\",\"Turtle_Tortoise\",\"Starfish\",\"squid\",\"shrimp\",\"sharks\",\"seal\",\"seahorse\",\"sea urchin\",\"sea ray\",\"puffer\",\"penguin\",\"otter\",\"octopus\",\"nudibranch\",\"lobster\",\"jelly fish\",\"fish\",\"eel\",\"dolphin\",\"crabs\",\"corals\"]"
   ]
  },
  {
   "cell_type": "code",
   "execution_count": 24,
   "id": "0aafd447",
   "metadata": {
    "execution": {
     "iopub.execute_input": "2022-09-02T22:15:12.923817Z",
     "iopub.status.busy": "2022-09-02T22:15:12.923222Z",
     "iopub.status.idle": "2022-09-02T22:15:13.836555Z",
     "shell.execute_reply": "2022-09-02T22:15:13.834937Z"
    },
    "papermill": {
     "duration": 0.939413,
     "end_time": "2022-09-02T22:15:13.844648",
     "exception": false,
     "start_time": "2022-09-02T22:15:12.905235",
     "status": "completed"
    },
    "tags": []
   },
   "outputs": [
    {
     "name": "stdout",
     "output_type": "stream",
     "text": [
      "Octopus\n"
     ]
    },
    {
     "data": {
      "image/png": "[encoded data removed]",
      "text/plain": [
       "<Figure size 2500x500 with 1 Axes>"
      ]
     },
     "metadata": {},
     "output_type": "display_data"
    }
   ],
   "source": [
    "with torch.no_grad():\n",
    "    model.eval()\n",
    "    output = model(stacked)\n",
    "    output = nn.functional.softmax(output,dim = 1)\n",
    "    \n",
    "class_names = images_path.classes    \n",
    "\n",
    "\n",
    "accur_name = [\"whale\",\"Turtle_Tortoise\",\"Starfish\",\"squid\",\"shrimp\",\"sharks\",\"seal\",\"seahorse\",\"sea urchin\",\"sea ray\",\"puffer\",\"penguin\",\"otter\",\"octopus\",\"nudibranch\",\"lobster\",\"jelly fish\",\"fish\",\"eel\",\"dolphin\",\"crabs\",\"corals\"]\n",
    "import matplotlib.pyplot as plt\n",
    "fig,axs = plt.subplots(1,1,figsize =(25,5))\n",
    "print(class_names[np.argmax(output[0])])\n",
    "\n",
    "ax = axs\n"
   ]
  },
  {
   "cell_type": "code",
   "execution_count": 25,
   "id": "ff24ba16",
   "metadata": {
    "papermill": {
     "duration": 0.029132,
     "end_time": "2022-09-02T22:15:16.906455",
     "exception": false,
     "start_time": "2022-09-02T22:15:16.877323",
     "status": "completed"
    },
    "tags": []
   },
   "outputs": [
    {
     "name": "stderr",
     "output_type": "stream",
     "text": [
      "/var/folders/b_/101911wx33v9vn6byy35y9380000gn/T/ipykernel_55445/3541335133.py:10: DeprecationWarning: textsize is deprecated and will be removed in Pillow 10 (2023-07-01). Use textbbox or textlength instead.\n",
      "  text_width, text_height = draw.textsize(text, font)\n"
     ]
    }
   ],
   "source": [
    "from PIL import Image, ImageDraw, ImageFont\n",
    "\n",
    "def overlay_text(image_path, text, output_path):\n",
    "    image = Image.open(image_path)\n",
    "    \n",
    "    draw = ImageDraw.Draw(image)\n",
    "    \n",
    "    font = ImageFont.load_default()  \n",
    "    \n",
    "    text_width, text_height = draw.textsize(text, font)\n",
    "    position = ((image.width - text_width) // 2, (image.height - text_height) // 1.1)\n",
    "    \n",
    "    draw.text(position, text, fill=\"red\", font=font)\n",
    "    \n",
    "    image.save(output_path)\n",
    "\n",
    "image_path = \"/Users/vaibhavmk/Downloads/campics/captured_image.jpg\"\n",
    "text = class_names[np.argmax(output[0])]\n",
    "output_path = \"/Users/vaibhavmk/Downloads/campics/test1.jpg\"\n",
    "ax.imshow(Image.open(output_path))\n",
    "overlay_text(image_path, text, output_path)\n"
   ]
  },
  {
   "cell_type": "code",
   "execution_count": 4,
   "id": "d7b07c40",
   "metadata": {
    "papermill": {
     "duration": 0.02803,
     "end_time": "2022-09-02T22:15:17.017871",
     "exception": false,
     "start_time": "2022-09-02T22:15:16.989841",
     "status": "completed"
    },
    "tags": []
   },
   "outputs": [],
   "source": [
    "import numpy as np\n",
    "import torch\n",
    "import torchvision\n",
    "import torch.nn as nn\n",
    "from torchvision.transforms import transforms\n",
    "normalize = transforms.Normalize(mean=[0.485, 0.456, 0.406],std=[0.229, 0.224, 0.225])\n",
    "\n",
    "\n",
    "train_transform = transforms.Compose([transforms.Resize((150,150)),\n",
    "                                     transforms.ToTensor(),normalize,transforms.RandomHorizontalFlip()])\n",
    "\n",
    "test_transform = transforms.Compose([transforms.Resize((150,150)),\n",
    "                                     transforms.ToTensor(),normalize])\n",
    "images_path = torchvision.datasets.ImageFolder(\"/Users/vaibhavmk/Downloads/marinefull\",transform = train_transform)\n",
    "len(images_path)\n",
    "model = torchvision.models.resnet50(pretrained = False)\n",
    "lassLayer = model.fc.in_features\n",
    "model.fc = nn.Sequential(nn.Linear(lassLayer,256),\n",
    "                         nn.ReLU(inplace = True),\n",
    "                         \n",
    "                         \n",
    "                         \n",
    "                         nn.Linear(256,len(images_path.classes)))\n",
    "\n",
    "                                   \n",
    "model.load_state_dict(torch.load(\"/Users/vaibhavmk/Downloads/animalClassfiction1.pth\"))                                   \n",
    "                                              \n",
    "import cv2\n",
    "import time\n",
    "from PIL import Image \n",
    "\n",
    "def capture_and_save_frame(video_capture,output_path):\n",
    "    frame_number = 0\n",
    "    while True:\n",
    "        ret, frame = video_capture.read()\n",
    "\n",
    "        if not ret:\n",
    "            break\n",
    "\n",
    "        cv2.imwrite(output_path, frame)\n",
    "         \n",
    "\n",
    "        test_paths =['/Users/vaibhavmk/Downloads/campics/test1.jpg']\n",
    "        img_testing = [Image.open(a) for a in test_paths]\n",
    "\n",
    "        stacked = torch.stack([test_transform(g) for g in img_testing])\n",
    "\n",
    "\n",
    "\n",
    "\n",
    "\n",
    "        with torch.no_grad():\n",
    "            model.eval()\n",
    "            output = model(stacked)\n",
    "            output = nn.functional.softmax(output,dim = 1)\n",
    "    \n",
    "        class_names = images_path.classes    \n",
    "\n",
    "        cv2.putText(frame, class_names[np.argmax(output[0])], (200, 100), cv2.FONT_HERSHEY_SIMPLEX, 2, (255, 255, 0), 4)\n",
    " \n",
    "        cv2.imshow('Quantum Aquatica', frame)\n",
    "\n",
    "        if cv2.waitKey(1) & 0xFF == ord('q'):\n",
    "            cv2.destroyAllWindows()\n",
    "            cv2.waitKey(1)\n",
    "            break\n",
    "        frame_number += 1\n",
    "\n",
    "        time.sleep(0.01)\n",
    "\n",
    "\n",
    "video_capture = cv2.VideoCapture(0)\n",
    "\n",
    "output_path = '/Users/vaibhavmk/Downloads/campics/test1.jpg'\n",
    "\n",
    "\n",
    "capture_and_save_frame(video_capture,output_path)\n"
   ]
  },
  {
   "cell_type": "markdown",
   "id": "d247e134-1cd9-45d8-a194-d4d7ca5f3dcb",
   "metadata": {},
   "source": [
    "Final Code Run (Goggles Preview)"
   ]
  },
  {
   "cell_type": "code",
   "execution_count": null,
   "id": "50e0fd37-17f3-4835-b9d1-7036a8a2bcb6",
   "metadata": {},
   "outputs": [],
   "source": [
    "import numpy as np\n",
    "import torch\n",
    "import torchvision\n",
    "import torch.nn as nn\n",
    "from torchvision.transforms import transforms\n",
    "normalize = transforms.Normalize(mean=[0.485, 0.456, 0.406],std=[0.229, 0.224, 0.225])\n",
    "\n",
    "\n",
    "train_transform = transforms.Compose([transforms.Resize((150,150)),\n",
    "                                     transforms.ToTensor(),normalize,transforms.RandomHorizontalFlip()])\n",
    "\n",
    "test_transform = transforms.Compose([transforms.Resize((150,150)),\n",
    "                                     transforms.ToTensor(),normalize])\n",
    "images_path = torchvision.datasets.ImageFolder(\"/Users/vaibhavmk/Downloads/marinefull\",transform = train_transform)\n",
    "len(images_path)\n",
    "model = torchvision.models.resnet50(pretrained = False)\n",
    "lassLayer = model.fc.in_features\n",
    "model.fc = nn.Sequential(nn.Linear(lassLayer,256),\n",
    "                         nn.ReLU(inplace = True),\n",
    "                         \n",
    "                         \n",
    "                         \n",
    "                         nn.Linear(256,len(images_path.classes)))\n",
    "\n",
    "                                   \n",
    "model.load_state_dict(torch.load(\"/Users/vaibhavmk/Downloads/animalClassfiction1.pth\"))                                   \n",
    "                                              \n",
    "import cv2\n",
    "import time\n",
    "from PIL import Image \n",
    "scale_factor = 0.8\n",
    "\n",
    "def capture_and_save_frame(video_capture,output_path):\n",
    "    frame_number = 0\n",
    "    while True:\n",
    "        ret, frame = video_capture.read()\n",
    "\n",
    "        if not ret:\n",
    "            break\n",
    "\n",
    "        cv2.imwrite(output_path, frame)\n",
    "         \n",
    "\n",
    "        test_paths =['/Users/vaibhavmk/Downloads/campics/test1.jpg']\n",
    "        img_testing = [Image.open(a) for a in test_paths]\n",
    "\n",
    "        stacked = torch.stack([test_transform(g) for g in img_testing])\n",
    "\n",
    "\n",
    "\n",
    "\n",
    "\n",
    "        with torch.no_grad():\n",
    "            model.eval()\n",
    "            output = model(stacked)\n",
    "            output = nn.functional.softmax(output,dim = 1)\n",
    "    \n",
    "        class_names = images_path.classes    \n",
    " \n",
    "        cv2.putText(frame, class_names[np.argmax(output[0])], (400, 100), cv2.FONT_HERSHEY_SIMPLEX, 2, (255, 255, 0), 4)\n",
    "\n",
    "  \n",
    "        sframe = cv2.resize(frame, None, fx=3.6, fy=3.6)\n",
    "        cv2.resizeWindow(\"Resized_Window\", 300, 700) \n",
    "        cv2.imshow('Quantum Aquatica', sframe)\n",
    "\n",
    "        if cv2.waitKey(1) & 0xFF == ord('q'):\n",
    "            cv2.destroyAllWindows()\n",
    "            cv2.waitKey(1)\n",
    "            break\n",
    "        frame_number += 1\n",
    "\n",
    "        time.sleep(0.01)\n",
    "\n",
    "video_path ='/Users/vaibhavmk/Downloads/VID-20240221-WA0004.mp4'\n",
    "video_capture = cv2.VideoCapture(video_path)\n",
    "\n",
    "output_path = '/Users/vaibhavmk/Downloads/campics/test1.jpg'\n",
    "\n",
    "capture_and_save_frame(video_capture,output_path)\n"
   ]
  }
 ],
 "metadata": {
  "kernelspec": {
   "display_name": "myenv",
   "language": "python",
   "name": "myenv"
  },
  "language_info": {
   "codemirror_mode": {
    "name": "ipython",
    "version": 3
   },
   "file_extension": ".py",
   "mimetype": "text/x-python",
   "name": "python",
   "nbconvert_exporter": "python",
   "pygments_lexer": "ipython3",
   "version": "3.12.2"
  },
  "papermill": {
   "default_parameters": {},
   "duration": 578.580427,
   "end_time": "2022-09-02T22:15:18.886609",
   "environment_variables": {},
   "exception": null,
   "input_path": "__notebook__.ipynb",
   "output_path": "__notebook__.ipynb",
   "parameters": {},
   "start_time": "2022-09-02T22:05:40.306182",
   "version": "2.3.4"
  },
  "widgets": {
   "application/vnd.jupyter.widget-state+json": {
    "state": {
     "1f5825fbeed24e05aa8002915a168c63": {
      "model_module": "@jupyter-widgets/base",
      "model_module_version": "1.2.0",
      "model_name": "LayoutModel",
      "state": {
       "_model_module": "@jupyter-widgets/base",
       "_model_module_version": "1.2.0",
       "_model_name": "LayoutModel",
       "_view_count": null,
       "_view_module": "@jupyter-widgets/base",
       "_view_module_version": "1.2.0",
       "_view_name": "LayoutView",
       "align_content": null,
       "align_items": null,
       "align_self": null,
       "border": null,
       "bottom": null,
       "display": null,
       "flex": null,
       "flex_flow": null,
       "grid_area": null,
       "grid_auto_columns": null,
       "grid_auto_flow": null,
       "grid_auto_rows": null,
       "grid_column": null,
       "grid_gap": null,
       "grid_row": null,
       "grid_template_areas": null,
       "grid_template_columns": null,
       "grid_template_rows": null,
       "height": null,
       "justify_content": null,
       "justify_items": null,
       "left": null,
       "margin": null,
       "max_height": null,
       "max_width": null,
       "min_height": null,
       "min_width": null,
       "object_fit": null,
       "object_position": null,
       "order": null,
       "overflow": null,
       "overflow_x": null,
       "overflow_y": null,
       "padding": null,
       "right": null,
       "top": null,
       "visibility": null,
       "width": null
      }
     },
     "2c45e70765494c56ad2d455bf06b542b": {
      "model_module": "@jupyter-widgets/base",
      "model_module_version": "1.2.0",
      "model_name": "LayoutModel",
      "state": {
       "_model_module": "@jupyter-widgets/base",
       "_model_module_version": "1.2.0",
       "_model_name": "LayoutModel",
       "_view_count": null,
       "_view_module": "@jupyter-widgets/base",
       "_view_module_version": "1.2.0",
       "_view_name": "LayoutView",
       "align_content": null,
       "align_items": null,
       "align_self": null,
       "border": null,
       "bottom": null,
       "display": null,
       "flex": null,
       "flex_flow": null,
       "grid_area": null,
       "grid_auto_columns": null,
       "grid_auto_flow": null,
       "grid_auto_rows": null,
       "grid_column": null,
       "grid_gap": null,
       "grid_row": null,
       "grid_template_areas": null,
       "grid_template_columns": null,
       "grid_template_rows": null,
       "height": null,
       "justify_content": null,
       "justify_items": null,
       "left": null,
       "margin": null,
       "max_height": null,
       "max_width": null,
       "min_height": null,
       "min_width": null,
       "object_fit": null,
       "object_position": null,
       "order": null,
       "overflow": null,
       "overflow_x": null,
       "overflow_y": null,
       "padding": null,
       "right": null,
       "top": null,
       "visibility": null,
       "width": null
      }
     },
     "36f1cf8a7f5f4a30a6b3b042b8f2939f": {
      "model_module": "@jupyter-widgets/controls",
      "model_module_version": "1.5.0",
      "model_name": "DescriptionStyleModel",
      "state": {
       "_model_module": "@jupyter-widgets/controls",
       "_model_module_version": "1.5.0",
       "_model_name": "DescriptionStyleModel",
       "_view_count": null,
       "_view_module": "@jupyter-widgets/base",
       "_view_module_version": "1.2.0",
       "_view_name": "StyleView",
       "description_width": ""
      }
     },
     "3852ed1157de48ff8debd9150b569898": {
      "model_module": "@jupyter-widgets/controls",
      "model_module_version": "1.5.0",
      "model_name": "HBoxModel",
      "state": {
       "_dom_classes": [],
       "_model_module": "@jupyter-widgets/controls",
       "_model_module_version": "1.5.0",
       "_model_name": "HBoxModel",
       "_view_count": null,
       "_view_module": "@jupyter-widgets/controls",
       "_view_module_version": "1.5.0",
       "_view_name": "HBoxView",
       "box_style": "",
       "children": [
        "IPY_MODEL_59567d14ce864a7ea3498927c638f3bf",
        "IPY_MODEL_6014133b48fe4a4280cef07cc6231a83",
        "IPY_MODEL_6d6e1b478a5f47db8cd45403d81dcfae"
       ],
       "layout": "IPY_MODEL_1f5825fbeed24e05aa8002915a168c63"
      }
     },
     "59567d14ce864a7ea3498927c638f3bf": {
      "model_module": "@jupyter-widgets/controls",
      "model_module_version": "1.5.0",
      "model_name": "HTMLModel",
      "state": {
       "_dom_classes": [],
       "_model_module": "@jupyter-widgets/controls",
       "_model_module_version": "1.5.0",
       "_model_name": "HTMLModel",
       "_view_count": null,
       "_view_module": "@jupyter-widgets/controls",
       "_view_module_version": "1.5.0",
       "_view_name": "HTMLView",
       "description": "",
       "description_tooltip": null,
       "layout": "IPY_MODEL_99b8998dce5f4e8594b68660ff1ac6e6",
       "placeholder": "​",
       "style": "IPY_MODEL_36f1cf8a7f5f4a30a6b3b042b8f2939f",
       "value": "100%"
      }
     },
     "6014133b48fe4a4280cef07cc6231a83": {
      "model_module": "@jupyter-widgets/controls",
      "model_module_version": "1.5.0",
      "model_name": "FloatProgressModel",
      "state": {
       "_dom_classes": [],
       "_model_module": "@jupyter-widgets/controls",
       "_model_module_version": "1.5.0",
       "_model_name": "FloatProgressModel",
       "_view_count": null,
       "_view_module": "@jupyter-widgets/controls",
       "_view_module_version": "1.5.0",
       "_view_name": "ProgressView",
       "bar_style": "success",
       "description": "",
       "description_tooltip": null,
       "layout": "IPY_MODEL_c62e9fcf478145ebb6873b15f00d6060",
       "max": 102530333,
       "min": 0,
       "orientation": "horizontal",
       "style": "IPY_MODEL_af8eef01f60249bda0d97292f3e39e94",
       "value": 102530333
      }
     },
     "6d6e1b478a5f47db8cd45403d81dcfae": {
      "model_module": "@jupyter-widgets/controls",
      "model_module_version": "1.5.0",
      "model_name": "HTMLModel",
      "state": {
       "_dom_classes": [],
       "_model_module": "@jupyter-widgets/controls",
       "_model_module_version": "1.5.0",
       "_model_name": "HTMLModel",
       "_view_count": null,
       "_view_module": "@jupyter-widgets/controls",
       "_view_module_version": "1.5.0",
       "_view_name": "HTMLView",
       "description": "",
       "description_tooltip": null,
       "layout": "IPY_MODEL_2c45e70765494c56ad2d455bf06b542b",
       "placeholder": "​",
       "style": "IPY_MODEL_836f0ab3bf0e4e4eb3ad436a50409092",
       "value": " 97.8M/97.8M [00:07&lt;00:00, 16.0MB/s]"
      }
     },
     "836f0ab3bf0e4e4eb3ad436a50409092": {
      "model_module": "@jupyter-widgets/controls",
      "model_module_version": "1.5.0",
      "model_name": "DescriptionStyleModel",
      "state": {
       "_model_module": "@jupyter-widgets/controls",
       "_model_module_version": "1.5.0",
       "_model_name": "DescriptionStyleModel",
       "_view_count": null,
       "_view_module": "@jupyter-widgets/base",
       "_view_module_version": "1.2.0",
       "_view_name": "StyleView",
       "description_width": ""
      }
     },
     "99b8998dce5f4e8594b68660ff1ac6e6": {
      "model_module": "@jupyter-widgets/base",
      "model_module_version": "1.2.0",
      "model_name": "LayoutModel",
      "state": {
       "_model_module": "@jupyter-widgets/base",
       "_model_module_version": "1.2.0",
       "_model_name": "LayoutModel",
       "_view_count": null,
       "_view_module": "@jupyter-widgets/base",
       "_view_module_version": "1.2.0",
       "_view_name": "LayoutView",
       "align_content": null,
       "align_items": null,
       "align_self": null,
       "border": null,
       "bottom": null,
       "display": null,
       "flex": null,
       "flex_flow": null,
       "grid_area": null,
       "grid_auto_columns": null,
       "grid_auto_flow": null,
       "grid_auto_rows": null,
       "grid_column": null,
       "grid_gap": null,
       "grid_row": null,
       "grid_template_areas": null,
       "grid_template_columns": null,
       "grid_template_rows": null,
       "height": null,
       "justify_content": null,
       "justify_items": null,
       "left": null,
       "margin": null,
       "max_height": null,
       "max_width": null,
       "min_height": null,
       "min_width": null,
       "object_fit": null,
       "object_position": null,
       "order": null,
       "overflow": null,
       "overflow_x": null,
       "overflow_y": null,
       "padding": null,
       "right": null,
       "top": null,
       "visibility": null,
       "width": null
      }
     },
     "af8eef01f60249bda0d97292f3e39e94": {
      "model_module": "@jupyter-widgets/controls",
      "model_module_version": "1.5.0",
      "model_name": "ProgressStyleModel",
      "state": {
       "_model_module": "@jupyter-widgets/controls",
       "_model_module_version": "1.5.0",
       "_model_name": "ProgressStyleModel",
       "_view_count": null,
       "_view_module": "@jupyter-widgets/base",
       "_view_module_version": "1.2.0",
       "_view_name": "StyleView",
       "bar_color": null,
       "description_width": ""
      }
     },
     "c62e9fcf478145ebb6873b15f00d6060": {
      "model_module": "@jupyter-widgets/base",
      "model_module_version": "1.2.0",
      "model_name": "LayoutModel",
      "state": {
       "_model_module": "@jupyter-widgets/base",
       "_model_module_version": "1.2.0",
       "_model_name": "LayoutModel",
       "_view_count": null,
       "_view_module": "@jupyter-widgets/base",
       "_view_module_version": "1.2.0",
       "_view_name": "LayoutView",
       "align_content": null,
       "align_items": null,
       "align_self": null,
       "border": null,
       "bottom": null,
       "display": null,
       "flex": null,
       "flex_flow": null,
       "grid_area": null,
       "grid_auto_columns": null,
       "grid_auto_flow": null,
       "grid_auto_rows": null,
       "grid_column": null,
       "grid_gap": null,
       "grid_row": null,
       "grid_template_areas": null,
       "grid_template_columns": null,
       "grid_template_rows": null,
       "height": null,
       "justify_content": null,
       "justify_items": null,
       "left": null,
       "margin": null,
       "max_height": null,
       "max_width": null,
       "min_height": null,
       "min_width": null,
       "object_fit": null,
       "object_position": null,
       "order": null,
       "overflow": null,
       "overflow_x": null,
       "overflow_y": null,
       "padding": null,
       "right": null,
       "top": null,
       "visibility": null,
       "width": null
      }
     }
    },
    "version_major": 2,
    "version_minor": 0
   }
  }
 },
 "nbformat": 4,
 "nbformat_minor": 5
}
